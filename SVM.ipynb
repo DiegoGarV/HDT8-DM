{
 "cells": [
  {
   "cell_type": "markdown",
   "id": "e11452ab",
   "metadata": {},
   "source": [
    "# Proyecto 2 - HDT 9 \n",
    "\n",
    "Diego García 22404<br>\n",
    "César López 22535 <br>\n",
    "\n",
    "GitHub: https://github.com/DiegoGarV/HDT8-DM "
   ]
  },
  {
   "cell_type": "code",
   "execution_count": 7,
   "id": "e05dddf0",
   "metadata": {},
   "outputs": [],
   "source": [
    "import pandas as pd\n",
    "import numpy as np\n",
    "import seaborn as sb\n",
    "import matplotlib.pyplot as plt\n",
    "import random\n",
    "from sklearn import datasets\n",
    "from sklearn.model_selection import train_test_split\n",
    "from sklearn import metrics\n",
    "from sklearn.model_selection import cross_val_predict\n",
    "from sklearn.svm import SVC\n",
    "from sklearn.svm import SVR\n",
    "from sklearn.model_selection import GridSearchCV\n",
    "from sklearn.impute import SimpleImputer\n",
    "from sklearn.compose import make_column_selector as selector\n",
    "from sklearn.compose import ColumnTransformer\n",
    "from sklearn.preprocessing import StandardScaler\n",
    "from sklearn.preprocessing import OneHotEncoder\n",
    "from sklearn.pipeline import Pipeline"
   ]
  },
  {
   "cell_type": "code",
   "execution_count": 2,
   "id": "5329ff90",
   "metadata": {},
   "outputs": [
    {
     "name": "stdout",
     "output_type": "stream",
     "text": [
      "(1168, 80)\n",
      "(292, 80)\n",
      "(1168,)\n",
      "(292,)\n"
     ]
    }
   ],
   "source": [
    "train = pd.read_csv(\"train.csv\")\n",
    "\n",
    "X = train.drop(columns=[\"SalePrice\"])\n",
    "y = train[\"SalePrice\"]\n",
    "X_train, X_test, y_train, y_test = train_test_split(X, y, test_size=0.2, random_state=42)\n",
    "\n",
    "print(X_train.shape)\n",
    "print(X_test.shape)\n",
    "print(y_train.shape)\n",
    "print(y_test.shape)"
   ]
  },
  {
   "cell_type": "code",
   "execution_count": 6,
   "id": "1153e241",
   "metadata": {},
   "outputs": [
    {
     "name": "stdout",
     "output_type": "stream",
     "text": [
      "['MSZoning', 'Street', 'Alley', 'LotShape', 'LandContour', 'Utilities', 'LotConfig', 'LandSlope', 'Neighborhood', 'Condition1', 'Condition2', 'BldgType', 'HouseStyle', 'RoofStyle', 'RoofMatl', 'Exterior1st', 'Exterior2nd', 'MasVnrType', 'ExterQual', 'ExterCond', 'Foundation', 'BsmtQual', 'BsmtCond', 'BsmtExposure', 'BsmtFinType1', 'BsmtFinType2', 'Heating', 'HeatingQC', 'CentralAir', 'Electrical', 'KitchenQual', 'Functional', 'FireplaceQu', 'GarageType', 'GarageFinish', 'GarageQual', 'GarageCond', 'PavedDrive', 'PoolQC', 'Fence', 'MiscFeature', 'SaleType', 'SaleCondition']\n",
      "['Id', 'MSSubClass', 'LotFrontage', 'LotArea', 'OverallQual', 'OverallCond', 'YearBuilt', 'YearRemodAdd', 'MasVnrArea', 'BsmtFinSF1', 'BsmtFinSF2', 'BsmtUnfSF', 'TotalBsmtSF', '1stFlrSF', '2ndFlrSF', 'LowQualFinSF', 'GrLivArea', 'BsmtFullBath', 'BsmtHalfBath', 'FullBath', 'HalfBath', 'BedroomAbvGr', 'KitchenAbvGr', 'TotRmsAbvGrd', 'Fireplaces', 'GarageYrBlt', 'GarageCars', 'GarageArea', 'WoodDeckSF', 'OpenPorchSF', 'EnclosedPorch', '3SsnPorch', 'ScreenPorch', 'PoolArea', 'MiscVal', 'MoSold', 'YrSold']\n"
     ]
    }
   ],
   "source": [
    "categorical_columns_selector = selector(dtype_include=object)\n",
    "numerical_columns_selector = selector(dtype_exclude=object)\n",
    "\n",
    "numerical_columns = numerical_columns_selector(X_train)\n",
    "categorical_columns = categorical_columns_selector(X_train)\n",
    "\n",
    "numerical_imputer = SimpleImputer(strategy='constant', fill_value=0)\n",
    "categorical_imputer = SimpleImputer(strategy='constant', fill_value='Unavailable')\n",
    "\n",
    "print(categorical_columns)\n",
    "print(numerical_columns)"
   ]
  },
  {
   "cell_type": "code",
   "execution_count": 8,
   "id": "1be7d3ce",
   "metadata": {},
   "outputs": [],
   "source": [
    "categorical_preprocessor = Pipeline(steps=[\n",
    "    ('imputer', categorical_imputer),\n",
    "    ('one-hot-encoder', OneHotEncoder(handle_unknown=\"ignore\", sparse_output=False))\n",
    "])\n",
    "\n",
    "numerical_preprocessor = Pipeline(steps=[\n",
    "    ('imputer', numerical_imputer),\n",
    "    ('scaler', StandardScaler())\n",
    "])\n",
    "\n",
    "preprocessor = ColumnTransformer([\n",
    "    ('one-hot-encoder', categorical_preprocessor, categorical_columns),\n",
    "    ('standard-scaler', numerical_preprocessor, numerical_columns)\n",
    "])"
   ]
  },
  {
   "cell_type": "code",
   "execution_count": 9,
   "id": "4c0b80d1",
   "metadata": {},
   "outputs": [
    {
     "data": {
      "text/plain": [
       "Categoria\n",
       "Normal    1145\n",
       "Cara       191\n",
       "Barata     124\n",
       "Name: count, dtype: int64"
      ]
     },
     "execution_count": 9,
     "metadata": {},
     "output_type": "execute_result"
    }
   ],
   "source": [
    "mean_price = train['SalePrice'].mean()\n",
    "std_price = train['SalePrice'].std()\n",
    "\n",
    "low_price = mean_price - std_price\n",
    "mid_price = mean_price + std_price\n",
    "\n",
    "def categorizar_casas(precio):\n",
    "    if precio <= low_price:\n",
    "        return \"Barata\"\n",
    "    elif precio <= mid_price:\n",
    "        return \"Normal\"\n",
    "    else:\n",
    "        return \"Cara\"\n",
    "\n",
    "train['Categoria'] = train['SalePrice'].apply(categorizar_casas)\n",
    "columnas_interes = ['OverallQual', 'GrLivArea', 'YearBuilt', 'YearRemodAdd',  'TotalBsmtSF', 'TotRmsAbvGrd', 'GarageArea']\n",
    "\n",
    "X_clf = train[columnas_interes]\n",
    "y_clf = train[\"Categoria\"]\n",
    "\n",
    "X_train_clf, X_test_clf, y_train_clf, y_test_clf = train_test_split(X_clf, y_clf, test_size=0.2, random_state=42)\n",
    "\n",
    "train['Categoria'].value_counts()"
   ]
  },
  {
   "cell_type": "code",
   "execution_count": 10,
   "id": "4a7a22c3",
   "metadata": {},
   "outputs": [
    {
     "data": {
      "text/html": [
       "<div>\n",
       "<style scoped>\n",
       "    .dataframe tbody tr th:only-of-type {\n",
       "        vertical-align: middle;\n",
       "    }\n",
       "\n",
       "    .dataframe tbody tr th {\n",
       "        vertical-align: top;\n",
       "    }\n",
       "\n",
       "    .dataframe thead th {\n",
       "        text-align: right;\n",
       "    }\n",
       "</style>\n",
       "<table border=\"1\" class=\"dataframe\">\n",
       "  <thead>\n",
       "    <tr style=\"text-align: right;\">\n",
       "      <th></th>\n",
       "      <th>OverallQual</th>\n",
       "      <th>GrLivArea</th>\n",
       "      <th>YearBuilt</th>\n",
       "      <th>YearRemodAdd</th>\n",
       "      <th>TotalBsmtSF</th>\n",
       "      <th>TotRmsAbvGrd</th>\n",
       "      <th>GarageArea</th>\n",
       "    </tr>\n",
       "  </thead>\n",
       "  <tbody>\n",
       "    <tr>\n",
       "      <th>count</th>\n",
       "      <td>1460.000000</td>\n",
       "      <td>1460.000000</td>\n",
       "      <td>1460.000000</td>\n",
       "      <td>1460.000000</td>\n",
       "      <td>1460.000000</td>\n",
       "      <td>1460.000000</td>\n",
       "      <td>1460.000000</td>\n",
       "    </tr>\n",
       "    <tr>\n",
       "      <th>mean</th>\n",
       "      <td>6.099315</td>\n",
       "      <td>1515.463699</td>\n",
       "      <td>1971.267808</td>\n",
       "      <td>1984.865753</td>\n",
       "      <td>1057.429452</td>\n",
       "      <td>6.517808</td>\n",
       "      <td>472.980137</td>\n",
       "    </tr>\n",
       "    <tr>\n",
       "      <th>std</th>\n",
       "      <td>1.382997</td>\n",
       "      <td>525.480383</td>\n",
       "      <td>30.202904</td>\n",
       "      <td>20.645407</td>\n",
       "      <td>438.705324</td>\n",
       "      <td>1.625393</td>\n",
       "      <td>213.804841</td>\n",
       "    </tr>\n",
       "    <tr>\n",
       "      <th>min</th>\n",
       "      <td>1.000000</td>\n",
       "      <td>334.000000</td>\n",
       "      <td>1872.000000</td>\n",
       "      <td>1950.000000</td>\n",
       "      <td>0.000000</td>\n",
       "      <td>2.000000</td>\n",
       "      <td>0.000000</td>\n",
       "    </tr>\n",
       "    <tr>\n",
       "      <th>25%</th>\n",
       "      <td>5.000000</td>\n",
       "      <td>1129.500000</td>\n",
       "      <td>1954.000000</td>\n",
       "      <td>1967.000000</td>\n",
       "      <td>795.750000</td>\n",
       "      <td>5.000000</td>\n",
       "      <td>334.500000</td>\n",
       "    </tr>\n",
       "    <tr>\n",
       "      <th>50%</th>\n",
       "      <td>6.000000</td>\n",
       "      <td>1464.000000</td>\n",
       "      <td>1973.000000</td>\n",
       "      <td>1994.000000</td>\n",
       "      <td>991.500000</td>\n",
       "      <td>6.000000</td>\n",
       "      <td>480.000000</td>\n",
       "    </tr>\n",
       "    <tr>\n",
       "      <th>75%</th>\n",
       "      <td>7.000000</td>\n",
       "      <td>1776.750000</td>\n",
       "      <td>2000.000000</td>\n",
       "      <td>2004.000000</td>\n",
       "      <td>1298.250000</td>\n",
       "      <td>7.000000</td>\n",
       "      <td>576.000000</td>\n",
       "    </tr>\n",
       "    <tr>\n",
       "      <th>max</th>\n",
       "      <td>10.000000</td>\n",
       "      <td>5642.000000</td>\n",
       "      <td>2010.000000</td>\n",
       "      <td>2010.000000</td>\n",
       "      <td>6110.000000</td>\n",
       "      <td>14.000000</td>\n",
       "      <td>1418.000000</td>\n",
       "    </tr>\n",
       "  </tbody>\n",
       "</table>\n",
       "</div>"
      ],
      "text/plain": [
       "       OverallQual    GrLivArea    YearBuilt  YearRemodAdd  TotalBsmtSF  \\\n",
       "count  1460.000000  1460.000000  1460.000000   1460.000000  1460.000000   \n",
       "mean      6.099315  1515.463699  1971.267808   1984.865753  1057.429452   \n",
       "std       1.382997   525.480383    30.202904     20.645407   438.705324   \n",
       "min       1.000000   334.000000  1872.000000   1950.000000     0.000000   \n",
       "25%       5.000000  1129.500000  1954.000000   1967.000000   795.750000   \n",
       "50%       6.000000  1464.000000  1973.000000   1994.000000   991.500000   \n",
       "75%       7.000000  1776.750000  2000.000000   2004.000000  1298.250000   \n",
       "max      10.000000  5642.000000  2010.000000   2010.000000  6110.000000   \n",
       "\n",
       "       TotRmsAbvGrd   GarageArea  \n",
       "count   1460.000000  1460.000000  \n",
       "mean       6.517808   472.980137  \n",
       "std        1.625393   213.804841  \n",
       "min        2.000000     0.000000  \n",
       "25%        5.000000   334.500000  \n",
       "50%        6.000000   480.000000  \n",
       "75%        7.000000   576.000000  \n",
       "max       14.000000  1418.000000  "
      ]
     },
     "execution_count": 10,
     "metadata": {},
     "output_type": "execute_result"
    }
   ],
   "source": [
    "X_clf.describe()"
   ]
  },
  {
   "cell_type": "markdown",
   "id": "432c8698",
   "metadata": {},
   "source": [
    "Para este paso, al haber cargado los datos al igual ya tienen un preprosesamiento previo que elimina muchas impuresas de los datos como los datos nulos y crea los pipelines para manejar los datos. Sin embargo, aún queda el balanceo de las clases, ya que en el conteo de la variable categoría vemos que tenemos muchos más datos de las casas con precio normal que de aquellas con precios caros o baratos. Además, también es importante normalizar las variables, ya que cada una usa una medida distinta y esto puede hacer que algunas tengan más peso que otras, sesgando el modelo. "
   ]
  },
  {
   "cell_type": "code",
   "execution_count": null,
   "id": "92317f86",
   "metadata": {},
   "outputs": [],
   "source": [
    "# Balanceo\n",
    "svm_clf = SVC(kernel=\"linear\", class_weight=\"balanced\", random_state=42)\n",
    "svm_clf.fit(X_train_clf_prep, y_train_clf)"
   ]
  }
 ],
 "metadata": {
  "kernelspec": {
   "display_name": "Python 3",
   "language": "python",
   "name": "python3"
  },
  "language_info": {
   "codemirror_mode": {
    "name": "ipython",
    "version": 3
   },
   "file_extension": ".py",
   "mimetype": "text/x-python",
   "name": "python",
   "nbconvert_exporter": "python",
   "pygments_lexer": "ipython3",
   "version": "3.10.11"
  }
 },
 "nbformat": 4,
 "nbformat_minor": 5
}
